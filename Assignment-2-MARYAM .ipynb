{
 "cells": [
  {
   "cell_type": "markdown",
   "metadata": {},
   "source": [
    "# TO DO LIST\n"
   ]
  },
  {
   "cell_type": "code",
   "execution_count": null,
   "metadata": {},
   "outputs": [
    {
     "name": "stdout",
     "output_type": "stream",
     "text": [
      "Which tasks i did in the morning ? Breakfast\n",
      "Which task i cant do in the morning ?: ['Assignment', 'Cooking', 'Prayer', 'Reciting Quran'] \n",
      "Which task i do in the morning?: ['Breakfast'] \n"
     ]
    }
   ],
   "source": [
    "tasks_list=[\"Breakfast\",\"Assignment\",\"Cooking\",\"Prayer\",\"Reciting Quran\"]\n",
    "tasks_list\n",
    "empty_list=[]\n",
    "empty_list\n",
    "while  len(tasks_list)>0:\n",
    "    select_task=input(\"Which tasks i did in the morning ? \")  \n",
    "    if select_task in tasks_list: \n",
    "        store_task=tasks_list.index(select_task)\n",
    "        \n",
    "        tasks_list.pop(store_task)\n",
    "        empty_list.append(select_task)\n",
    "        \n",
    "        print(f\"Which task i cant do in the morning ?: {tasks_list} \")\n",
    "        print(f\"Which task i do in the morning?: {empty_list} \")# type casting\n",
    "    else:\n",
    "        print(\"All tasks are completed\")"
   ]
  },
  {
   "cell_type": "code",
   "execution_count": null,
   "metadata": {},
   "outputs": [],
   "source": []
  },
  {
   "cell_type": "code",
   "execution_count": null,
   "metadata": {},
   "outputs": [],
   "source": []
  }
 ],
 "metadata": {
  "kernelspec": {
   "display_name": "Python 3",
   "language": "python",
   "name": "python3"
  },
  "language_info": {
   "codemirror_mode": {
    "name": "ipython",
    "version": 3
   },
   "file_extension": ".py",
   "mimetype": "text/x-python",
   "name": "python",
   "nbconvert_exporter": "python",
   "pygments_lexer": "ipython3",
   "version": "3.7.3"
  }
 },
 "nbformat": 4,
 "nbformat_minor": 2
}
